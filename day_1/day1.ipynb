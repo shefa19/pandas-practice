{
 "cells": [
  {
   "cell_type": "code",
   "execution_count": 1,
   "id": "c3a3dd19-6c9f-4311-9cbf-50e65200b0eb",
   "metadata": {},
   "outputs": [],
   "source": [
    "import pandas as pd"
   ]
  },
  {
   "cell_type": "code",
   "execution_count": 2,
   "id": "b176de26-3c44-420f-a0de-f193be9c2dfe",
   "metadata": {},
   "outputs": [],
   "source": [
    "s = pd.Series([10,20,30], index = [\"Shefa\", \"Rifa\", \"Rafsan\"])"
   ]
  },
  {
   "cell_type": "code",
   "execution_count": 3,
   "id": "75eb9d5a-6348-4710-bf30-634007048953",
   "metadata": {},
   "outputs": [
    {
     "name": "stdout",
     "output_type": "stream",
     "text": [
      "Shefa     10\n",
      "Rifa      20\n",
      "Rafsan    30\n",
      "dtype: int64\n"
     ]
    }
   ],
   "source": [
    "print(s)"
   ]
  },
  {
   "cell_type": "code",
   "execution_count": 4,
   "id": "023a6a61-19a6-4df3-86ca-27a6a7ddfcb8",
   "metadata": {},
   "outputs": [],
   "source": [
    "data = {\n",
    "    \"Name\" : [\"Shefa\", \"Rifa\", \"Rafsan\"],\n",
    "    \"Age\" : [24, 21, 3],\n",
    "    \"City\" : [\"Nilphamari\", \"Nilphamari\", \"Dinajpur\"]\n",
    "}"
   ]
  },
  {
   "cell_type": "code",
   "execution_count": 5,
   "id": "2d4b09ca-9f5d-4320-aaca-dfbbcefdb85d",
   "metadata": {},
   "outputs": [],
   "source": [
    "df = pd.DataFrame(data)"
   ]
  },
  {
   "cell_type": "code",
   "execution_count": null,
   "id": "53c5e17b-d5b0-453f-a8e4-893f316570d3",
   "metadata": {},
   "outputs": [],
   "source": [
    "pie"
   ]
  }
 ],
 "metadata": {
  "kernelspec": {
   "display_name": "Python 3 (ipykernel)",
   "language": "python",
   "name": "python3"
  },
  "language_info": {
   "codemirror_mode": {
    "name": "ipython",
    "version": 3
   },
   "file_extension": ".py",
   "mimetype": "text/x-python",
   "name": "python",
   "nbconvert_exporter": "python",
   "pygments_lexer": "ipython3",
   "version": "3.13.4"
  }
 },
 "nbformat": 4,
 "nbformat_minor": 5
}
